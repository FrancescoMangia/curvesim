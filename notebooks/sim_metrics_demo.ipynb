{
 "cells": [
  {
   "cell_type": "code",
   "execution_count": 1,
   "id": "058c9f4a",
   "metadata": {},
   "outputs": [
    {
     "data": {
      "text/plain": [
       "'0.5.0'"
      ]
     },
     "execution_count": 1,
     "metadata": {},
     "output_type": "execute_result"
    }
   ],
   "source": [
    "import curvesim\n",
    "curvesim.__version__"
   ]
  },
  {
   "cell_type": "code",
   "execution_count": 2,
   "id": "2798b54e",
   "metadata": {},
   "outputs": [],
   "source": [
    "pool = curvesim.pool.get(\"0xbEbc44782C7dB0a1A60Cb6fe97d0b483032FF1C7\")"
   ]
  },
  {
   "cell_type": "code",
   "execution_count": 3,
   "id": "e633474a",
   "metadata": {},
   "outputs": [
    {
     "data": {
      "text/plain": [
       "{'name': 'Curve.fi DAI/USDC/USDT',\n",
       " 'address': '0xbEbc44782C7dB0a1A60Cb6fe97d0b483032FF1C7',\n",
       " 'chain': <Chain.MAINNET: 'mainnet'>,\n",
       " 'symbol': '3Crv',\n",
       " 'version': 1,\n",
       " 'pool_type': 'REGISTRY_V1',\n",
       " 'params': {'A': 2000,\n",
       "  'fee': 1000000,\n",
       "  'fee_mul': None,\n",
       "  'admin_fee': 5000000000},\n",
       " 'coins': {'names': ['DAI', 'USDC', 'USDT'],\n",
       "  'addresses': ['0x6B175474E89094C44Da98b954EedeAC495271d0F',\n",
       "   '0xA0b86991c6218b36c1d19D4a2e9Eb0cE3606eB48',\n",
       "   '0xdAC17F958D2ee523a2206206994597C13D831ec7'],\n",
       "  'decimals': [18, 6, 6]},\n",
       " 'reserves': {'by_coin': [49452269483529638854616687,\n",
       "   50749133459591000000000000,\n",
       "   57414331147901000000000000],\n",
       "  'unnormalized_by_coin': [49452269483529638854616687,\n",
       "   50749133459591,\n",
       "   57414331147901],\n",
       "  'virtual_price': 1035595898375393044},\n",
       " 'basepool': None,\n",
       " 'timestamp': 1729123200}"
      ]
     },
     "execution_count": 3,
     "metadata": {},
     "output_type": "execute_result"
    }
   ],
   "source": [
    "pool.metadata"
   ]
  },
  {
   "cell_type": "code",
   "execution_count": 4,
   "id": "20b4e8ed",
   "metadata": {},
   "outputs": [
    {
     "name": "stderr",
     "output_type": "stream",
     "text": [
      "[INFO][14:59:30][curvesim.price_data.data_sources.coingecko]-70928: Fetching CoinGecko price data for DAI-USDC...\n",
      "[INFO][14:59:30][curvesim.price_data.data_sources.coingecko]-70928: \n",
      "Resampling 'DAI'...\n",
      "Average data frequency: 0 days 01:00:04.858527816\n",
      "Resampling to: <Hour>\n",
      "Filling NaN values:\n",
      "price     789\n",
      "volume    789\n",
      "[INFO][14:59:31][curvesim.price_data.data_sources.coingecko]-70928: \n",
      "Resampling 'USDC'...\n",
      "Average data frequency: 0 days 00:59:59.989768750\n",
      "Resampling to: <Hour>\n",
      "Filling NaN values:\n",
      "price     791\n",
      "volume    791\n",
      "[INFO][14:59:31][curvesim.price_data.data_sources.coingecko]-70928: Fetching CoinGecko price data for DAI-USDT...\n",
      "[INFO][14:59:31][curvesim.price_data.data_sources.coingecko]-70928: \n",
      "Resampling 'DAI'...\n",
      "Average data frequency: 0 days 01:00:04.858527816\n",
      "Resampling to: <Hour>\n",
      "Filling NaN values:\n",
      "price     789\n",
      "volume    789\n",
      "[INFO][15:01:07][curvesim.price_data.data_sources.coingecko]-70928: \n",
      "Resampling 'USDT'...\n",
      "Average data frequency: 0 days 01:00:05.337632127\n",
      "Resampling to: <Hour>\n",
      "Filling NaN values:\n",
      "price     783\n",
      "volume    783\n",
      "[INFO][15:01:07][curvesim.price_data.data_sources.coingecko]-70928: Fetching CoinGecko price data for USDC-USDT...\n",
      "[INFO][15:01:07][curvesim.price_data.data_sources.coingecko]-70928: \n",
      "Resampling 'USDC'...\n",
      "Average data frequency: 0 days 00:59:59.989768750\n",
      "Resampling to: <Hour>\n",
      "Filling NaN values:\n",
      "price     791\n",
      "volume    791\n",
      "[INFO][15:01:07][curvesim.price_data.data_sources.coingecko]-70928: \n",
      "Resampling 'USDT'...\n",
      "Average data frequency: 0 days 01:00:05.337632127\n",
      "Resampling to: <Hour>\n",
      "Filling NaN values:\n",
      "price     783\n",
      "volume    783\n",
      "[INFO][15:01:07][curvesim.pool_data.queries.pool_volume]-70928: Fetching historical pool volume...\n",
      "[INFO][15:01:08][curvesim.pool_data.queries.pool_volume]-70928: Days of volume returned:\n",
      "(DAI, USDC)     60\n",
      "(DAI, USDT)     60\n",
      "(USDC, USDT)    60\n",
      "[INFO][15:01:08][curvesim.pipelines.vol_limited_arb]-70928: Volume Multipliers:\n",
      "(DAI, USDC)     0.000252\n",
      "(DAI, USDT)     0.000033\n",
      "(USDC, USDT)    0.000049\n",
      "[INFO][15:01:10][curvesim.templates.strategy]-73371: [3Crv] Simulating with no parameter changes\n"
     ]
    }
   ],
   "source": [
    "results = curvesim.autosim(\"0xbEbc44782C7dB0a1A60Cb6fe97d0b483032FF1C7\",A=[100, 1000], fee=[3000000, 4000000])"
   ]
  },
  {
   "cell_type": "code",
   "execution_count": 5,
   "id": "0e656433",
   "metadata": {},
   "outputs": [
    {
     "data": {
      "text/html": [
       "<div>\n",
       "<style scoped>\n",
       "    .dataframe tbody tr th:only-of-type {\n",
       "        vertical-align: middle;\n",
       "    }\n",
       "\n",
       "    .dataframe tbody tr th {\n",
       "        vertical-align: top;\n",
       "    }\n",
       "\n",
       "    .dataframe thead tr th {\n",
       "        text-align: left;\n",
       "    }\n",
       "</style>\n",
       "<table border=\"1\" class=\"dataframe\">\n",
       "  <thead>\n",
       "    <tr>\n",
       "      <th>metric</th>\n",
       "      <th>pool_value_virtual</th>\n",
       "      <th>pool_value</th>\n",
       "      <th colspan=\"2\" halign=\"left\">pool_balance</th>\n",
       "      <th colspan=\"2\" halign=\"left\">liquidity_density</th>\n",
       "      <th>pool_volume</th>\n",
       "      <th>arb_profit</th>\n",
       "      <th>pool_fees</th>\n",
       "      <th>price_error</th>\n",
       "    </tr>\n",
       "    <tr>\n",
       "      <th>stat</th>\n",
       "      <th>annualized_returns</th>\n",
       "      <th>annualized_returns</th>\n",
       "      <th>median</th>\n",
       "      <th>min</th>\n",
       "      <th>median</th>\n",
       "      <th>min</th>\n",
       "      <th>sum</th>\n",
       "      <th>sum</th>\n",
       "      <th>sum</th>\n",
       "      <th>median</th>\n",
       "    </tr>\n",
       "  </thead>\n",
       "  <tbody>\n",
       "    <tr>\n",
       "      <th>0</th>\n",
       "      <td>0.005286</td>\n",
       "      <td>0.005684</td>\n",
       "      <td>0.870132</td>\n",
       "      <td>0.538638</td>\n",
       "      <td>851.698742</td>\n",
       "      <td>260.922905</td>\n",
       "      <td>2.733739e+09</td>\n",
       "      <td>1.546130e+06</td>\n",
       "      <td>273463.550667</td>\n",
       "      <td>0.000937</td>\n",
       "    </tr>\n",
       "  </tbody>\n",
       "</table>\n",
       "</div>"
      ],
      "text/plain": [
       "metric pool_value_virtual         pool_value pool_balance            \\\n",
       "stat   annualized_returns annualized_returns       median       min   \n",
       "0                0.005286           0.005684     0.870132  0.538638   \n",
       "\n",
       "metric liquidity_density               pool_volume    arb_profit  \\\n",
       "stat              median         min           sum           sum   \n",
       "0             851.698742  260.922905  2.733739e+09  1.546130e+06   \n",
       "\n",
       "metric      pool_fees price_error  \n",
       "stat              sum      median  \n",
       "0       273463.550667    0.000937  "
      ]
     },
     "execution_count": 5,
     "metadata": {},
     "output_type": "execute_result"
    }
   ],
   "source": [
    "results.summary()"
   ]
  },
  {
   "cell_type": "code",
   "execution_count": 6,
   "id": "787af3c7",
   "metadata": {},
   "outputs": [],
   "source": [
    "chart = results.plot(save_as=\"chart.html\")  # open chart.html in your browser"
   ]
  },
  {
   "cell_type": "code",
   "execution_count": 7,
   "id": "8c875436",
   "metadata": {},
   "outputs": [
    {
     "data": {
      "text/html": [
       "\n",
       "<style>\n",
       "  #altair-viz-d543e475f7f746b5a6b562e7dcbfce55.vega-embed {\n",
       "    width: 100%;\n",
       "    display: flex;\n",
       "  }\n",
       "\n",
       "  #altair-viz-d543e475f7f746b5a6b562e7dcbfce55.vega-embed details,\n",
       "  #altair-viz-d543e475f7f746b5a6b562e7dcbfce55.vega-embed details summary {\n",
       "    position: relative;\n",
       "  }\n",
       "</style>\n",
       "<div id=\"altair-viz-d543e475f7f746b5a6b562e7dcbfce55\"></div>\n",
       "<script type=\"text/javascript\">\n",
       "  var VEGA_DEBUG = (typeof VEGA_DEBUG == \"undefined\") ? {} : VEGA_DEBUG;\n",
       "  (function(spec, embedOpt){\n",
       "    let outputDiv = document.currentScript.previousElementSibling;\n",
       "    if (outputDiv.id !== \"altair-viz-d543e475f7f746b5a6b562e7dcbfce55\") {\n",
       "      outputDiv = document.getElementById(\"altair-viz-d543e475f7f746b5a6b562e7dcbfce55\");\n",
       "    }\n",
       "    const paths = {\n",
       "      \"vega\": \"https://cdn.jsdelivr.net/npm/vega@5?noext\",\n",
       "      \"vega-lib\": \"https://cdn.jsdelivr.net/npm/vega-lib?noext\",\n",
       "      \"vega-lite\": \"https://cdn.jsdelivr.net/npm/vega-lite@5.16.3?noext\",\n",
       "      \"vega-embed\": \"https://cdn.jsdelivr.net/npm/vega-embed@6?noext\",\n",
       "    };\n",
       "\n",
       "    function maybeLoadScript(lib, version) {\n",
       "      var key = `${lib.replace(\"-\", \"\")}_version`;\n",
       "      return (VEGA_DEBUG[key] == version) ?\n",
       "        Promise.resolve(paths[lib]) :\n",
       "        new Promise(function(resolve, reject) {\n",
       "          var s = document.createElement('script');\n",
       "          document.getElementsByTagName(\"head\")[0].appendChild(s);\n",
       "          s.async = true;\n",
       "          s.onload = () => {\n",
       "            VEGA_DEBUG[key] = version;\n",
       "            return resolve(paths[lib]);\n",
       "          };\n",
       "          s.onerror = () => reject(`Error loading script: ${paths[lib]}`);\n",
       "          s.src = paths[lib];\n",
       "        });\n",
       "    }\n",
       "\n",
       "    function showError(err) {\n",
       "      outputDiv.innerHTML = `<div class=\"error\" style=\"color:red;\">${err}</div>`;\n",
       "      throw err;\n",
       "    }\n",
       "\n",
       "    function displayChart(vegaEmbed) {\n",
       "      vegaEmbed(outputDiv, spec, embedOpt)\n",
       "        .catch(err => showError(`Javascript Error: ${err.message}<br>This usually means there's a typo in your chart specification. See the javascript console for the full traceback.`));\n",
       "    }\n",
       "\n",
       "    if(typeof define === \"function\" && define.amd) {\n",
       "      requirejs.config({paths});\n",
       "      require([\"vega-embed\"], displayChart, err => showError(`Error loading script: ${err.message}`));\n",
       "    } else {\n",
       "      maybeLoadScript(\"vega\", \"5\")\n",
       "        .then(() => maybeLoadScript(\"vega-lite\", \"5.16.3\"))\n",
       "        .then(() => maybeLoadScript(\"vega-embed\", \"6\"))\n",
       "        .catch(showError)\n",
       "        .then(() => displayChart(vegaEmbed));\n",
       "    }\n",
       "  })({\"config\": {\"view\": {\"continuousWidth\": 300, \"continuousHeight\": 300}}, \"vconcat\": [{\"concat\": [{\"mark\": {\"type\": \"line\", \"point\": true}, \"encoding\": {\"color\": {\"scale\": {\"scheme\": \"viridis\"}}, \"tooltip\": [{\"field\": \"pool_value_virtual annualized_returns\", \"title\": \"Annualized Returns (Virtual)\", \"type\": \"quantitative\"}], \"x\": {\"scale\": {\"zero\": false}}, \"y\": {\"axis\": {\"format\": \"%\"}, \"field\": \"pool_value_virtual annualized_returns\", \"scale\": {\"zero\": false}, \"title\": \"Annualized Returns (Virtual)\", \"type\": \"quantitative\"}}, \"name\": \"view_21\", \"title\": \"Annualized Returns (Virtual)\", \"transform\": []}, {\"mark\": {\"type\": \"line\", \"point\": true}, \"encoding\": {\"color\": {\"scale\": {\"scheme\": \"viridis\"}}, \"tooltip\": [{\"field\": \"pool_value annualized_returns\", \"title\": \"Annualized Returns (in USDC)\", \"type\": \"quantitative\"}], \"x\": {\"scale\": {\"zero\": false}}, \"y\": {\"axis\": {\"format\": \"%\"}, \"field\": \"pool_value annualized_returns\", \"scale\": {\"zero\": false}, \"title\": \"Annualized Returns (in USDC)\", \"type\": \"quantitative\"}}, \"name\": \"view_22\", \"title\": \"Annualized Returns (in USDC)\", \"transform\": []}, {\"vconcat\": [{\"layer\": [{\"mark\": {\"type\": \"line\", \"point\": true}, \"encoding\": {\"color\": {\"scale\": {\"scheme\": \"viridis\"}}, \"opacity\": {\"condition\": {\"test\": \"indexof(param_23.submetric, 'pool_balance median') != -1\", \"value\": 1}, \"value\": 0}, \"tooltip\": [{\"field\": \"pool_balance median\", \"title\": \"Median % Balanced\", \"type\": \"quantitative\"}], \"x\": {\"scale\": {\"zero\": false}}, \"y\": {\"axis\": {\"format\": \"%\"}, \"field\": \"pool_balance median\", \"scale\": {\"zero\": false}, \"title\": \"% Balanced\", \"type\": \"quantitative\"}}, \"name\": \"view_23\", \"title\": \"Pool Balance/Imbalance\", \"transform\": []}, {\"mark\": {\"type\": \"line\", \"point\": true}, \"encoding\": {\"color\": {\"scale\": {\"scheme\": \"viridis\"}}, \"opacity\": {\"condition\": {\"test\": \"indexof(param_23.submetric, 'pool_balance min') != -1\", \"value\": 1}, \"value\": 0}, \"tooltip\": [{\"field\": \"pool_balance min\", \"title\": \"Min % Balanced\", \"type\": \"quantitative\"}], \"x\": {\"scale\": {\"zero\": false}}, \"y\": {\"axis\": {\"format\": \"%\"}, \"field\": \"pool_balance min\", \"scale\": {\"zero\": false}, \"title\": \"% Balanced\", \"type\": \"quantitative\"}}, \"name\": \"view_24\", \"title\": \"Pool Balance/Imbalance\", \"transform\": []}], \"data\": {\"name\": \"data-755ee7920e9b0ae6ab63a254ebd8224f\"}}, {\"data\": {\"name\": \"data-4d71f46b9aefd1101b4723599b0c790a\"}, \"mark\": {\"type\": \"rect\"}, \"encoding\": {\"color\": {\"legend\": null, \"scale\": {\"scheme\": \"viridis\"}}, \"opacity\": {\"condition\": {\"param\": \"param_23\", \"value\": 1}, \"value\": 0.1}, \"y\": {\"axis\": {\"orient\": \"right\"}, \"field\": \"labels\", \"title\": null, \"type\": \"ordinal\"}}, \"name\": \"view_25\", \"title\": \"\"}], \"spacing\": 2}, {\"vconcat\": [{\"layer\": [{\"mark\": {\"type\": \"line\", \"point\": true}, \"encoding\": {\"color\": {\"scale\": {\"scheme\": \"viridis\"}}, \"opacity\": {\"condition\": {\"test\": \"indexof(param_26.submetric, 'liquidity_density median') != -1\", \"value\": 1}, \"value\": 0}, \"tooltip\": [{\"field\": \"liquidity_density median\", \"title\": \"Median Liquidity Density\", \"type\": \"quantitative\"}], \"x\": {\"scale\": {\"zero\": false}}, \"y\": {\"field\": \"liquidity_density median\", \"scale\": {\"zero\": false}, \"title\": \"Liquidity Density\", \"type\": \"quantitative\"}}, \"name\": \"view_26\", \"title\": \"Liquidity Density\", \"transform\": []}, {\"mark\": {\"type\": \"line\", \"point\": true}, \"encoding\": {\"color\": {\"scale\": {\"scheme\": \"viridis\"}}, \"opacity\": {\"condition\": {\"test\": \"indexof(param_26.submetric, 'liquidity_density min') != -1\", \"value\": 1}, \"value\": 0}, \"tooltip\": [{\"field\": \"liquidity_density min\", \"title\": \"Min Liquidity Density\", \"type\": \"quantitative\"}], \"x\": {\"scale\": {\"zero\": false}}, \"y\": {\"field\": \"liquidity_density min\", \"scale\": {\"zero\": false}, \"title\": \"Liquidity Density\", \"type\": \"quantitative\"}}, \"name\": \"view_27\", \"title\": \"Liquidity Density\", \"transform\": []}], \"data\": {\"name\": \"data-755ee7920e9b0ae6ab63a254ebd8224f\"}}, {\"data\": {\"name\": \"data-f250ca5a7e483cd41a294ee460add125\"}, \"mark\": {\"type\": \"rect\"}, \"encoding\": {\"color\": {\"legend\": null, \"scale\": {\"scheme\": \"viridis\"}}, \"opacity\": {\"condition\": {\"param\": \"param_26\", \"value\": 1}, \"value\": 0.1}, \"y\": {\"axis\": {\"orient\": \"right\"}, \"field\": \"labels\", \"title\": null, \"type\": \"ordinal\"}}, \"name\": \"view_28\", \"title\": \"\"}], \"spacing\": 2}, {\"mark\": {\"type\": \"line\", \"point\": true}, \"encoding\": {\"color\": {\"scale\": {\"scheme\": \"viridis\"}}, \"tooltip\": [{\"field\": \"pool_volume sum\", \"title\": \"Total Volume (of Any Coin)\", \"type\": \"quantitative\"}], \"x\": {\"scale\": {\"zero\": false}}, \"y\": {\"field\": \"pool_volume sum\", \"scale\": {\"zero\": false}, \"title\": \"Total Volume (of Any Coin)\", \"type\": \"quantitative\"}}, \"name\": \"view_29\", \"title\": \"Total Volume (of Any Coin)\", \"transform\": []}, {\"mark\": {\"type\": \"line\", \"point\": true}, \"encoding\": {\"color\": {\"scale\": {\"scheme\": \"viridis\"}}, \"tooltip\": [{\"field\": \"arb_profit sum\", \"title\": \"Total Arbitrageur Profit (in USDC)\", \"type\": \"quantitative\"}], \"x\": {\"scale\": {\"zero\": false}}, \"y\": {\"field\": \"arb_profit sum\", \"scale\": {\"zero\": false}, \"title\": \"Total Arbitrageur Profit (in USDC)\", \"type\": \"quantitative\"}}, \"name\": \"view_30\", \"title\": \"Total Arbitrageur Profit (in USDC)\", \"transform\": []}, {\"mark\": {\"type\": \"line\", \"point\": true}, \"encoding\": {\"color\": {\"scale\": {\"scheme\": \"viridis\"}}, \"tooltip\": [{\"field\": \"pool_fees sum\", \"title\": \"Total Pool Fees (in USDC)\", \"type\": \"quantitative\"}], \"x\": {\"scale\": {\"zero\": false}}, \"y\": {\"field\": \"pool_fees sum\", \"scale\": {\"zero\": false}, \"title\": \"Total Pool Fees (in USDC)\", \"type\": \"quantitative\"}}, \"name\": \"view_31\", \"title\": \"Total Pool Fees (in USDC)\", \"transform\": []}, {\"mark\": {\"type\": \"line\", \"point\": true}, \"encoding\": {\"color\": {\"scale\": {\"scheme\": \"viridis\"}}, \"tooltip\": [{\"field\": \"price_error median\", \"title\": \"Price Error (median)\", \"type\": \"quantitative\"}], \"x\": {\"scale\": {\"zero\": false}}, \"y\": {\"field\": \"price_error median\", \"scale\": {\"zero\": false}, \"title\": \"Price Error (median)\", \"type\": \"quantitative\"}}, \"name\": \"view_32\", \"title\": \"Price Error (median)\", \"transform\": []}], \"columns\": 2, \"data\": {\"name\": \"data-755ee7920e9b0ae6ab63a254ebd8224f\"}, \"resolve\": {\"scale\": {\"color\": \"independent\"}}, \"title\": {\"text\": \"Summary Metrics\", \"fontSize\": 16}}, {\"concat\": [{\"mark\": {\"type\": \"line\"}, \"encoding\": {\"color\": {\"scale\": {\"scheme\": \"viridis\"}}, \"tooltip\": [{\"field\": \"timestamp\", \"title\": \"Time\", \"type\": \"temporal\"}, {\"field\": \"pool_value_virtual\", \"title\": \"Pool Value (Virtual)\", \"type\": \"quantitative\"}], \"x\": {\"field\": \"timestamp\", \"title\": null, \"type\": \"temporal\"}, \"y\": {\"field\": \"pool_value_virtual\", \"scale\": {\"zero\": false}, \"title\": \"Pool Value (Virtual)\", \"type\": \"quantitative\"}}, \"name\": \"view_33\", \"title\": \"Pool Value (Virtual)\", \"transform\": []}, {\"mark\": {\"type\": \"line\"}, \"encoding\": {\"color\": {\"scale\": {\"scheme\": \"viridis\"}}, \"tooltip\": [{\"field\": \"timestamp\", \"title\": \"Time\", \"type\": \"temporal\"}, {\"field\": \"pool_value\", \"title\": \"Pool Value (in USDC)\", \"type\": \"quantitative\"}], \"x\": {\"field\": \"timestamp\", \"title\": null, \"type\": \"temporal\"}, \"y\": {\"field\": \"pool_value\", \"scale\": {\"zero\": false}, \"title\": \"Pool Value (in USDC)\", \"type\": \"quantitative\"}}, \"name\": \"view_34\", \"title\": \"Pool Value (in USDC)\", \"transform\": []}, {\"mark\": {\"type\": \"line\"}, \"encoding\": {\"color\": {\"scale\": {\"scheme\": \"viridis\"}}, \"tooltip\": [{\"field\": \"timestamp\", \"title\": \"Time\", \"type\": \"temporal\"}, {\"field\": \"pool_balance\", \"title\": \"% Balanced (Daily Median)\", \"type\": \"quantitative\"}], \"x\": {\"field\": \"timestamp\", \"title\": null, \"type\": \"temporal\"}, \"y\": {\"axis\": {\"format\": \"%\"}, \"field\": \"pool_balance\", \"scale\": {\"zero\": false}, \"title\": \"% Balanced (Daily Median)\", \"type\": \"quantitative\"}}, \"name\": \"view_35\", \"title\": \"Pool Balance/Imbalance\", \"transform\": []}, {\"mark\": {\"type\": \"line\"}, \"encoding\": {\"color\": {\"scale\": {\"scheme\": \"viridis\"}}, \"tooltip\": [{\"field\": \"timestamp\", \"title\": \"Time\", \"type\": \"temporal\"}, {\"field\": \"liquidity_density\", \"title\": \"Liquidity Density (Daily Median)\", \"type\": \"quantitative\"}], \"x\": {\"field\": \"timestamp\", \"title\": null, \"type\": \"temporal\"}, \"y\": {\"field\": \"liquidity_density\", \"scale\": {\"zero\": false}, \"title\": \"Liquidity Density (Daily Median)\", \"type\": \"quantitative\"}}, \"name\": \"view_36\", \"title\": \"Liquidity Density (Daily Median)\", \"transform\": []}, {\"mark\": {\"type\": \"line\"}, \"encoding\": {\"color\": {\"scale\": {\"scheme\": \"viridis\"}}, \"tooltip\": [{\"field\": \"timestamp\", \"title\": \"Time\", \"type\": \"temporal\"}, {\"field\": \"pool_volume\", \"title\": \"Daily Volume (of Any Coin)\", \"type\": \"quantitative\"}], \"x\": {\"field\": \"timestamp\", \"title\": null, \"type\": \"temporal\"}, \"y\": {\"field\": \"pool_volume\", \"scale\": {\"zero\": false}, \"title\": \"Daily Volume (of Any Coin)\", \"type\": \"quantitative\"}}, \"name\": \"view_37\", \"title\": \"Daily Volume (of Any Coin)\", \"transform\": []}, {\"mark\": {\"type\": \"line\"}, \"encoding\": {\"color\": {\"scale\": {\"scheme\": \"viridis\"}}, \"tooltip\": [{\"field\": \"timestamp\", \"title\": \"Time\", \"type\": \"temporal\"}, {\"field\": \"arb_profit\", \"title\": \"Daily Arbitrageur Profit (in USDC)\", \"type\": \"quantitative\"}], \"x\": {\"field\": \"timestamp\", \"title\": null, \"type\": \"temporal\"}, \"y\": {\"field\": \"arb_profit\", \"scale\": {\"zero\": false}, \"title\": \"Daily Arbitrageur Profit (in USDC)\", \"type\": \"quantitative\"}}, \"name\": \"view_38\", \"title\": \"Daily Arbitrageur Profit (in USDC)\", \"transform\": []}, {\"mark\": {\"type\": \"line\"}, \"encoding\": {\"color\": {\"scale\": {\"scheme\": \"viridis\"}}, \"tooltip\": [{\"field\": \"timestamp\", \"title\": \"Time\", \"type\": \"temporal\"}, {\"field\": \"pool_fees\", \"title\": \"Daily Pool Fees (in USDC)\", \"type\": \"quantitative\"}], \"x\": {\"field\": \"timestamp\", \"title\": null, \"type\": \"temporal\"}, \"y\": {\"field\": \"pool_fees\", \"scale\": {\"zero\": false}, \"title\": \"Daily Pool Fees (in USDC)\", \"type\": \"quantitative\"}}, \"name\": \"view_39\", \"title\": \"Daily Pool Fees (in USDC)\", \"transform\": []}, {\"data\": {\"name\": \"data-5d0f2551e2efd1798c9a9dd59a32a48e\"}, \"mark\": {\"type\": \"line\", \"interpolate\": \"step-before\"}, \"encoding\": {\"color\": {\"scale\": {\"scheme\": \"viridis\"}}, \"tooltip\": [{\"field\": \"frequency\", \"title\": \"Frequency\", \"type\": \"quantitative\"}], \"x\": {\"field\": \"price_error\", \"scale\": {\"clamp\": true, \"domain\": [0, 0.05]}, \"title\": \"Price Error (binned)\", \"type\": \"quantitative\"}, \"y\": {\"axis\": {\"format\": \"%\"}, \"field\": \"frequency\", \"scale\": {\"zero\": true}, \"title\": \"Frequency\", \"type\": \"quantitative\"}}, \"name\": \"view_40\", \"title\": \"Price Error\", \"transform\": []}], \"columns\": 2, \"data\": {\"name\": \"data-d9cd8d7be97227a1bd1cab7008b36de3\"}, \"resolve\": {\"scale\": {\"color\": \"independent\"}}, \"title\": {\"text\": \"Timeseries Data\", \"fontSize\": 16}}], \"params\": [{\"name\": \"param_21\", \"select\": {\"type\": \"interval\", \"encodings\": [\"x\", \"y\"]}, \"bind\": \"scales\", \"views\": [\"view_21\"]}, {\"name\": \"param_22\", \"select\": {\"type\": \"interval\", \"encodings\": [\"x\", \"y\"]}, \"bind\": \"scales\", \"views\": [\"view_22\"]}, {\"name\": \"param_24\", \"select\": {\"type\": \"interval\", \"encodings\": [\"x\", \"y\"]}, \"bind\": \"scales\", \"views\": [\"view_23\"]}, {\"name\": \"param_25\", \"select\": {\"type\": \"interval\", \"encodings\": [\"x\", \"y\"]}, \"bind\": \"scales\", \"views\": [\"view_24\"]}, {\"name\": \"param_23\", \"select\": {\"type\": \"point\", \"clear\": false, \"fields\": [\"submetric\"], \"toggle\": \"true\"}, \"value\": [{\"submetric\": \"pool_balance median\"}], \"views\": [\"view_25\"]}, {\"name\": \"param_27\", \"select\": {\"type\": \"interval\", \"encodings\": [\"x\", \"y\"]}, \"bind\": \"scales\", \"views\": [\"view_26\"]}, {\"name\": \"param_28\", \"select\": {\"type\": \"interval\", \"encodings\": [\"x\", \"y\"]}, \"bind\": \"scales\", \"views\": [\"view_27\"]}, {\"name\": \"param_26\", \"select\": {\"type\": \"point\", \"clear\": false, \"fields\": [\"submetric\"], \"toggle\": \"true\"}, \"value\": [{\"submetric\": \"liquidity_density median\"}], \"views\": [\"view_28\"]}, {\"name\": \"param_29\", \"select\": {\"type\": \"interval\", \"encodings\": [\"x\", \"y\"]}, \"bind\": \"scales\", \"views\": [\"view_29\"]}, {\"name\": \"param_30\", \"select\": {\"type\": \"interval\", \"encodings\": [\"x\", \"y\"]}, \"bind\": \"scales\", \"views\": [\"view_30\"]}, {\"name\": \"param_31\", \"select\": {\"type\": \"interval\", \"encodings\": [\"x\", \"y\"]}, \"bind\": \"scales\", \"views\": [\"view_31\"]}, {\"name\": \"param_32\", \"select\": {\"type\": \"interval\", \"encodings\": [\"x\", \"y\"]}, \"bind\": \"scales\", \"views\": [\"view_32\"]}, {\"name\": \"param_33\", \"select\": {\"type\": \"interval\", \"encodings\": [\"x\", \"y\"]}, \"bind\": \"scales\", \"views\": [\"view_33\"]}, {\"name\": \"param_34\", \"select\": {\"type\": \"interval\", \"encodings\": [\"x\", \"y\"]}, \"bind\": \"scales\", \"views\": [\"view_34\"]}, {\"name\": \"param_35\", \"select\": {\"type\": \"interval\", \"encodings\": [\"x\", \"y\"]}, \"bind\": \"scales\", \"views\": [\"view_35\"]}, {\"name\": \"param_36\", \"select\": {\"type\": \"interval\", \"encodings\": [\"x\", \"y\"]}, \"bind\": \"scales\", \"views\": [\"view_36\"]}, {\"name\": \"param_37\", \"select\": {\"type\": \"interval\", \"encodings\": [\"x\", \"y\"]}, \"bind\": \"scales\", \"views\": [\"view_37\"]}, {\"name\": \"param_38\", \"select\": {\"type\": \"interval\", \"encodings\": [\"x\", \"y\"]}, \"bind\": \"scales\", \"views\": [\"view_38\"]}, {\"name\": \"param_39\", \"select\": {\"type\": \"interval\", \"encodings\": [\"x\", \"y\"]}, \"bind\": \"scales\", \"views\": [\"view_39\"]}, {\"name\": \"param_40\", \"select\": {\"type\": \"interval\", \"encodings\": [\"x\", \"y\"]}, \"bind\": \"scales\", \"views\": [\"view_40\"]}], \"resolve\": {\"scale\": {\"color\": \"independent\"}}, \"$schema\": \"https://vega.github.io/schema/vega-lite/v5.16.3.json\", \"datasets\": {\"data-755ee7920e9b0ae6ab63a254ebd8224f\": [{\"pool_value_virtual annualized_returns\": 0.005286, \"pool_value annualized_returns\": 0.005684, \"pool_balance median\": 0.870132, \"pool_balance min\": 0.538638, \"liquidity_density median\": 851.698742, \"liquidity_density min\": 260.922905, \"pool_volume sum\": 2733738739.349005, \"arb_profit sum\": 1546130.453706, \"pool_fees sum\": 273463.550667, \"price_error median\": 0.000937}], \"data-4d71f46b9aefd1101b4723599b0c790a\": [{\"submetric\": \"pool_balance median\", \"labels\": \"Median\"}, {\"submetric\": \"pool_balance min\", \"labels\": \"Min\"}], \"data-f250ca5a7e483cd41a294ee460add125\": [{\"submetric\": \"liquidity_density median\", \"labels\": \"Median\"}, {\"submetric\": \"liquidity_density min\", \"labels\": \"Min\"}], \"data-d9cd8d7be97227a1bd1cab7008b36de3\": [{\"timestamp\": \"2024-08-18T00:00:00+00:00\", \"run\": 0, \"pool_value_virtual\": 157617164.393967, \"pool_value\": 157647898.30294, \"pool_balance\": 0.944532, \"liquidity_density\": 967.513325, \"pool_volume\": 32002763.235185, \"arb_profit\": 20933.664245, \"pool_fees\": 3201.227282}, {\"timestamp\": \"2024-08-19T00:00:00+00:00\", \"run\": 0, \"pool_value_virtual\": 157618057.869189, \"pool_value\": 157615547.947016, \"pool_balance\": 0.889759, \"liquidity_density\": 888.705765, \"pool_volume\": 17869333.626883, \"arb_profit\": 21251.847679, \"pool_fees\": 1788.11309}, {\"timestamp\": \"2024-08-20T00:00:00+00:00\", \"run\": 0, \"pool_value_virtual\": 157619432.994154, \"pool_value\": 157543067.274137, \"pool_balance\": 0.838931, \"liquidity_density\": 769.198706, \"pool_volume\": 27502062.26864, \"arb_profit\": 14974.827107, \"pool_fees\": 2750.558305}, {\"timestamp\": \"2024-08-21T00:00:00+00:00\", \"run\": 0, \"pool_value_virtual\": 157622056.556148, \"pool_value\": 157779841.785689, \"pool_balance\": 0.790497, \"liquidity_density\": 675.645592, \"pool_volume\": 52470012.289235, \"arb_profit\": 41556.804318, \"pool_fees\": 5250.449551}, {\"timestamp\": \"2024-08-22T00:00:00+00:00\", \"run\": 0, \"pool_value_virtual\": 157624236.531605, \"pool_value\": 157670694.416103, \"pool_balance\": 0.80921, \"liquidity_density\": 683.469483, \"pool_volume\": 43593833.450068, \"arb_profit\": 42027.409713, \"pool_fees\": 4361.659081}, {\"timestamp\": \"2024-08-23T00:00:00+00:00\", \"run\": 0, \"pool_value_virtual\": 157626817.874942, \"pool_value\": 157737036.261586, \"pool_balance\": 0.846349, \"liquidity_density\": 802.132591, \"pool_volume\": 51625248.436276, \"arb_profit\": 42756.44589, \"pool_fees\": 5162.920552}, {\"timestamp\": \"2024-08-24T00:00:00+00:00\", \"run\": 0, \"pool_value_virtual\": 157629366.147659, \"pool_value\": 157678390.681194, \"pool_balance\": 0.775339, \"liquidity_density\": 607.926417, \"pool_volume\": 50966664.666471, \"arb_profit\": 32084.012341, \"pool_fees\": 5098.664917}, {\"timestamp\": \"2024-08-25T00:00:00+00:00\", \"run\": 0, \"pool_value_virtual\": 157630197.782609, \"pool_value\": 157700443.885273, \"pool_balance\": 0.79845, \"liquidity_density\": 654.892763, \"pool_volume\": 16631267.193639, \"arb_profit\": 10810.78495, \"pool_fees\": 1664.849006}, {\"timestamp\": \"2024-08-26T00:00:00+00:00\", \"run\": 0, \"pool_value_virtual\": 157631490.442033, \"pool_value\": 157491900.860139, \"pool_balance\": 0.805697, \"liquidity_density\": 696.953417, \"pool_volume\": 25851765.747247, \"arb_profit\": 12924.892595, \"pool_fees\": 2585.96016}, {\"timestamp\": \"2024-08-27T00:00:00+00:00\", \"run\": 0, \"pool_value_virtual\": 157632718.689126, \"pool_value\": 157509638.671484, \"pool_balance\": 0.786261, \"liquidity_density\": 650.363673, \"pool_volume\": 24562971.386203, \"arb_profit\": 11836.222722, \"pool_fees\": 2456.948907}, {\"timestamp\": \"2024-08-28T00:00:00+00:00\", \"run\": 0, \"pool_value_virtual\": 157635049.066607, \"pool_value\": 157582058.123619, \"pool_balance\": 0.811015, \"liquidity_density\": 692.082715, \"pool_volume\": 46603679.230901, \"arb_profit\": 28732.47998, \"pool_fees\": 4662.853986}, {\"timestamp\": \"2024-08-29T00:00:00+00:00\", \"run\": 0, \"pool_value_virtual\": 157636152.106043, \"pool_value\": 157651032.969981, \"pool_balance\": 0.869649, \"liquidity_density\": 833.975317, \"pool_volume\": 22059753.987259, \"arb_profit\": 7563.604248, \"pool_fees\": 2206.885082}, {\"timestamp\": \"2024-08-30T00:00:00+00:00\", \"run\": 0, \"pool_value_virtual\": 157637335.520702, \"pool_value\": 157610565.065199, \"pool_balance\": 0.884269, \"liquidity_density\": 886.231812, \"pool_volume\": 23667308.437582, \"arb_profit\": 13719.877859, \"pool_fees\": 2367.339737}, {\"timestamp\": \"2024-08-31T00:00:00+00:00\", \"run\": 0, \"pool_value_virtual\": 157638376.035618, \"pool_value\": 157649717.463586, \"pool_balance\": 0.968862, \"liquidity_density\": 989.676763, \"pool_volume\": 20809637.88375, \"arb_profit\": 6420.015754, \"pool_fees\": 2081.859647}, {\"timestamp\": \"2024-09-01T00:00:00+00:00\", \"run\": 0, \"pool_value_virtual\": 157638841.289366, \"pool_value\": 157580345.851807, \"pool_balance\": 0.979096, \"liquidity_density\": 996.019546, \"pool_volume\": 9305012.793324, \"arb_profit\": 5484.266075, \"pool_fees\": 930.622177}, {\"timestamp\": \"2024-09-02T00:00:00+00:00\", \"run\": 0, \"pool_value_virtual\": 157639299.964355, \"pool_value\": 157587769.153069, \"pool_balance\": 0.979664, \"liquidity_density\": 996.443425, \"pool_volume\": 9173491.765369, \"arb_profit\": 3432.652171, \"pool_fees\": 917.632678}, {\"timestamp\": \"2024-09-03T00:00:00+00:00\", \"run\": 0, \"pool_value_virtual\": 157640325.988188, \"pool_value\": 157701898.119096, \"pool_balance\": 0.939617, \"liquidity_density\": 964.030637, \"pool_volume\": 20520600.636751, \"arb_profit\": 9997.940955, \"pool_fees\": 2053.064814}, {\"timestamp\": \"2024-09-04T00:00:00+00:00\", \"run\": 0, \"pool_value_virtual\": 157642721.426481, \"pool_value\": 157634712.313482, \"pool_balance\": 0.917192, \"liquidity_density\": 942.167366, \"pool_volume\": 47907987.101774, \"arb_profit\": 46743.975432, \"pool_fees\": 4792.65748}, {\"timestamp\": \"2024-09-05T00:00:00+00:00\", \"run\": 0, \"pool_value_virtual\": 157644405.511645, \"pool_value\": 157594003.671652, \"pool_balance\": 0.957085, \"liquidity_density\": 983.517804, \"pool_volume\": 33681454.283677, \"arb_profit\": 19908.396495, \"pool_fees\": 3369.000889}, {\"timestamp\": \"2024-09-06T00:00:00+00:00\", \"run\": 0, \"pool_value_virtual\": 157646481.568695, \"pool_value\": 157637635.914872, \"pool_balance\": 0.880709, \"liquidity_density\": 885.873376, \"pool_volume\": 41521531.327999, \"arb_profit\": 18954.807498, \"pool_fees\": 4151.812271}, {\"timestamp\": \"2024-09-07T00:00:00+00:00\", \"run\": 0, \"pool_value_virtual\": 157649213.382942, \"pool_value\": 157630430.23872, \"pool_balance\": 0.833224, \"liquidity_density\": 801.846939, \"pool_volume\": 54634516.921996, \"arb_profit\": 17825.607365, \"pool_fees\": 5464.678605}, {\"timestamp\": \"2024-09-08T00:00:00+00:00\", \"run\": 0, \"pool_value_virtual\": 157650249.00643, \"pool_value\": 157703473.74302, \"pool_balance\": 0.812641, \"liquidity_density\": 762.184991, \"pool_volume\": 20711903.198623, \"arb_profit\": 12169.294056, \"pool_fees\": 2072.481499}, {\"timestamp\": \"2024-09-09T00:00:00+00:00\", \"run\": 0, \"pool_value_virtual\": 157652553.757461, \"pool_value\": 157811672.588763, \"pool_balance\": 0.891789, \"liquidity_density\": 898.178021, \"pool_volume\": 46095364.905637, \"arb_profit\": 41550.498463, \"pool_fees\": 4613.71394}, {\"timestamp\": \"2024-09-10T00:00:00+00:00\", \"run\": 0, \"pool_value_virtual\": 157653849.244464, \"pool_value\": 157715786.247308, \"pool_balance\": 0.852004, \"liquidity_density\": 839.262648, \"pool_volume\": 25909074.358454, \"arb_profit\": 13371.913685, \"pool_fees\": 2591.79531}, {\"timestamp\": \"2024-09-11T00:00:00+00:00\", \"run\": 0, \"pool_value_virtual\": 157655674.055729, \"pool_value\": 157645685.707778, \"pool_balance\": 0.867267, \"liquidity_density\": 861.138717, \"pool_volume\": 36496939.113553, \"arb_profit\": 30573.44794, \"pool_fees\": 3651.922313}, {\"timestamp\": \"2024-09-12T00:00:00+00:00\", \"run\": 0, \"pool_value_virtual\": 157658143.50751, \"pool_value\": 157666657.547542, \"pool_balance\": 0.784261, \"liquidity_density\": 685.828029, \"pool_volume\": 49388144.407293, \"arb_profit\": 26447.97852, \"pool_fees\": 4941.197686}, {\"timestamp\": \"2024-09-13T00:00:00+00:00\", \"run\": 0, \"pool_value_virtual\": 157660588.395652, \"pool_value\": 157711697.501365, \"pool_balance\": 0.896021, \"liquidity_density\": 908.249184, \"pool_volume\": 48895222.709121, \"arb_profit\": 29136.015564, \"pool_fees\": 4890.707362}, {\"timestamp\": \"2024-09-14T00:00:00+00:00\", \"run\": 0, \"pool_value_virtual\": 157661978.697981, \"pool_value\": 157668899.828548, \"pool_balance\": 0.887669, \"liquidity_density\": 865.822472, \"pool_volume\": 27806474.414054, \"arb_profit\": 6311.571093, \"pool_fees\": 2781.378312}, {\"timestamp\": \"2024-09-15T00:00:00+00:00\", \"run\": 0, \"pool_value_virtual\": 157662204.032309, \"pool_value\": 157629046.932258, \"pool_balance\": 0.8654, \"liquidity_density\": 833.607895, \"pool_volume\": 4506739.194246, \"arb_profit\": 1005.584966, \"pool_fees\": 450.780085}, {\"timestamp\": \"2024-09-16T00:00:00+00:00\", \"run\": 0, \"pool_value_virtual\": 157663861.670986, \"pool_value\": 157631758.865827, \"pool_balance\": 0.909431, \"liquidity_density\": 922.580464, \"pool_volume\": 33152058.909224, \"arb_profit\": 15886.892878, \"pool_fees\": 3316.63245}, {\"timestamp\": \"2024-09-17T00:00:00+00:00\", \"run\": 0, \"pool_value_virtual\": 157665506.046219, \"pool_value\": 157628300.769167, \"pool_balance\": 0.872628, \"liquidity_density\": 857.104947, \"pool_volume\": 32887679.558782, \"arb_profit\": 29004.384798, \"pool_fees\": 3291.228127}, {\"timestamp\": \"2024-09-18T00:00:00+00:00\", \"run\": 0, \"pool_value_virtual\": 157668455.344621, \"pool_value\": 157585534.14942, \"pool_balance\": 0.773156, \"liquidity_density\": 606.009653, \"pool_volume\": 58979373.51154, \"arb_profit\": 38210.252915, \"pool_fees\": 5900.059226}, {\"timestamp\": \"2024-09-19T00:00:00+00:00\", \"run\": 0, \"pool_value_virtual\": 157670151.474436, \"pool_value\": 157734132.720396, \"pool_balance\": 0.850849, \"liquidity_density\": 802.501686, \"pool_volume\": 33921284.030737, \"arb_profit\": 17162.393713, \"pool_fees\": 3393.317927}, {\"timestamp\": \"2024-09-20T00:00:00+00:00\", \"run\": 0, \"pool_value_virtual\": 157672901.112964, \"pool_value\": 157667161.002284, \"pool_balance\": 0.786527, \"liquidity_density\": 647.612227, \"pool_volume\": 54987794.416869, \"arb_profit\": 33196.828533, \"pool_fees\": 5501.210565}, {\"timestamp\": \"2024-09-21T00:00:00+00:00\", \"run\": 0, \"pool_value_virtual\": 157674491.249487, \"pool_value\": 157684314.463454, \"pool_balance\": 0.855323, \"liquidity_density\": 812.415278, \"pool_volume\": 31801296.914129, \"arb_profit\": 10764.782176, \"pool_fees\": 3181.699024}, {\"timestamp\": \"2024-09-22T00:00:00+00:00\", \"run\": 0, \"pool_value_virtual\": 157675349.27245, \"pool_value\": 157436696.656633, \"pool_balance\": 0.93073, \"liquidity_density\": 949.808199, \"pool_volume\": 17159049.648347, \"arb_profit\": 8533.308336, \"pool_fees\": 1716.103892}, {\"timestamp\": \"2024-09-23T00:00:00+00:00\", \"run\": 0, \"pool_value_virtual\": 157676701.255628, \"pool_value\": 157645882.361901, \"pool_balance\": 0.942923, \"liquidity_density\": 966.645883, \"pool_volume\": 27039413.303207, \"arb_profit\": 12720.799569, \"pool_fees\": 2704.429902}, {\"timestamp\": \"2024-09-24T00:00:00+00:00\", \"run\": 0, \"pool_value_virtual\": 157678823.609734, \"pool_value\": 157607324.13958, \"pool_balance\": 0.924438, \"liquidity_density\": 947.722777, \"pool_volume\": 42447884.650846, \"arb_profit\": 20878.27991, \"pool_fees\": 4244.952466}, {\"timestamp\": \"2024-09-25T00:00:00+00:00\", \"run\": 0, \"pool_value_virtual\": 157680298.310232, \"pool_value\": 157713188.165032, \"pool_balance\": 0.877538, \"liquidity_density\": 883.499767, \"pool_volume\": 29492528.607031, \"arb_profit\": 16331.621171, \"pool_fees\": 2950.914832}, {\"timestamp\": \"2024-09-26T00:00:00+00:00\", \"run\": 0, \"pool_value_virtual\": 157682311.253584, \"pool_value\": 157679151.235534, \"pool_balance\": 0.881848, \"liquidity_density\": 875.755395, \"pool_volume\": 40259755.996313, \"arb_profit\": 15982.946687, \"pool_fees\": 4027.026673}, {\"timestamp\": \"2024-09-27T00:00:00+00:00\", \"run\": 0, \"pool_value_virtual\": 157685933.173246, \"pool_value\": 157671579.110376, \"pool_balance\": 0.904934, \"liquidity_density\": 918.00051, \"pool_volume\": 72436518.96574, \"arb_profit\": 20227.155194, \"pool_fees\": 7245.092199}, {\"timestamp\": \"2024-09-28T00:00:00+00:00\", \"run\": 0, \"pool_value_virtual\": 157688170.832635, \"pool_value\": 157670864.058614, \"pool_balance\": 0.884948, \"liquidity_density\": 877.600018, \"pool_volume\": 44753019.548609, \"arb_profit\": 7887.145414, \"pool_fees\": 4476.165129}, {\"timestamp\": \"2024-09-29T00:00:00+00:00\", \"run\": 0, \"pool_value_virtual\": 157690517.478727, \"pool_value\": 157674759.248018, \"pool_balance\": 0.851111, \"liquidity_density\": 787.452207, \"pool_volume\": 46932423.495208, \"arb_profit\": 7746.733501, \"pool_fees\": 4693.842034}, {\"timestamp\": \"2024-09-30T00:00:00+00:00\", \"run\": 0, \"pool_value_virtual\": 157694622.211481, \"pool_value\": 157762039.183538, \"pool_balance\": 0.808078, \"liquidity_density\": 741.428739, \"pool_volume\": 82089381.822858, \"arb_profit\": 32444.787117, \"pool_fees\": 8211.222685}, {\"timestamp\": \"2024-10-01T00:00:00+00:00\", \"run\": 0, \"pool_value_virtual\": 157700300.933818, \"pool_value\": 157764683.420948, \"pool_balance\": 0.911847, \"liquidity_density\": 929.232964, \"pool_volume\": 113571917.658365, \"arb_profit\": 63030.031698, \"pool_fees\": 11360.107127}, {\"timestamp\": \"2024-10-02T00:00:00+00:00\", \"run\": 0, \"pool_value_virtual\": 157707510.436373, \"pool_value\": 157640797.432297, \"pool_balance\": 0.884593, \"liquidity_density\": 878.391982, \"pool_volume\": 144186170.314072, \"arb_profit\": 108983.733081, \"pool_fees\": 14425.90882}, {\"timestamp\": \"2024-10-03T00:00:00+00:00\", \"run\": 0, \"pool_value_virtual\": 157713016.181398, \"pool_value\": 157748977.024829, \"pool_balance\": 0.891228, \"liquidity_density\": 892.889631, \"pool_volume\": 110112545.236012, \"arb_profit\": 84382.90475, \"pool_fees\": 11014.729835}, {\"timestamp\": \"2024-10-04T00:00:00+00:00\", \"run\": 0, \"pool_value_virtual\": 157717121.221275, \"pool_value\": 157769714.317258, \"pool_balance\": 0.905785, \"liquidity_density\": 920.361323, \"pool_volume\": 82099805.11486, \"arb_profit\": 41036.532493, \"pool_fees\": 8213.17379}, {\"timestamp\": \"2024-10-05T00:00:00+00:00\", \"run\": 0, \"pool_value_virtual\": 157720073.717454, \"pool_value\": 157692763.192327, \"pool_balance\": 0.93732, \"liquidity_density\": 963.768512, \"pool_volume\": 59048649.769274, \"arb_profit\": 16454.46333, \"pool_fees\": 5905.545477}, {\"timestamp\": \"2024-10-06T00:00:00+00:00\", \"run\": 0, \"pool_value_virtual\": 157722263.267798, \"pool_value\": 157742116.741501, \"pool_balance\": 0.915946, \"liquidity_density\": 933.516908, \"pool_volume\": 43791122.682438, \"arb_profit\": 15405.648099, \"pool_fees\": 4380.057308}, {\"timestamp\": \"2024-10-07T00:00:00+00:00\", \"run\": 0, \"pool_value_virtual\": 157724617.740386, \"pool_value\": 157577226.399337, \"pool_balance\": 0.923941, \"liquidity_density\": 941.217322, \"pool_volume\": 47087647.930696, \"arb_profit\": 56342.746208, \"pool_fees\": 4710.367589}, {\"timestamp\": \"2024-10-08T00:00:00+00:00\", \"run\": 0, \"pool_value_virtual\": 157729444.066563, \"pool_value\": 157652390.029636, \"pool_balance\": 0.909811, \"liquidity_density\": 920.883861, \"pool_volume\": 96526747.388923, \"arb_profit\": 56674.384343, \"pool_fees\": 9656.72965}, {\"timestamp\": \"2024-10-09T00:00:00+00:00\", \"run\": 0, \"pool_value_virtual\": 157732623.234963, \"pool_value\": 157758863.078525, \"pool_balance\": 0.694851, \"liquidity_density\": 515.047668, \"pool_volume\": 63580505.1106, \"arb_profit\": 28839.30354, \"pool_fees\": 6357.902986}, {\"timestamp\": \"2024-10-10T00:00:00+00:00\", \"run\": 0, \"pool_value_virtual\": 157735489.810013, \"pool_value\": 157703391.872741, \"pool_balance\": 0.603669, \"liquidity_density\": 355.46499, \"pool_volume\": 57327627.230126, \"arb_profit\": 24210.932791, \"pool_fees\": 5731.779613}, {\"timestamp\": \"2024-10-11T00:00:00+00:00\", \"run\": 0, \"pool_value_virtual\": 157738281.046324, \"pool_value\": 157734965.551454, \"pool_balance\": 0.660739, \"liquidity_density\": 446.439108, \"pool_volume\": 55811641.925055, \"arb_profit\": 25369.391552, \"pool_fees\": 5582.685717}, {\"timestamp\": \"2024-10-12T00:00:00+00:00\", \"run\": 0, \"pool_value_virtual\": 157740044.612322, \"pool_value\": 157736118.13216, \"pool_balance\": 0.821375, \"liquidity_density\": 754.026818, \"pool_volume\": 35269288.583503, \"arb_profit\": 11210.511816, \"pool_fees\": 3528.252962}, {\"timestamp\": \"2024-10-13T00:00:00+00:00\", \"run\": 0, \"pool_value_virtual\": 157742304.664261, \"pool_value\": 157796263.117926, \"pool_balance\": 0.890669, \"liquidity_density\": 881.044076, \"pool_volume\": 45200677.862519, \"arb_profit\": 12622.070952, \"pool_fees\": 4520.545811}, {\"timestamp\": \"2024-10-14T00:00:00+00:00\", \"run\": 0, \"pool_value_virtual\": 157743972.293433, \"pool_value\": 157743723.138941, \"pool_balance\": 0.833553, \"liquidity_density\": 801.544455, \"pool_volume\": 33353416.587422, \"arb_profit\": 14222.463293, \"pool_fees\": 3335.11216}, {\"timestamp\": \"2024-10-15T00:00:00+00:00\", \"run\": 0, \"pool_value_virtual\": 157748611.469537, \"pool_value\": 157696279.441514, \"pool_balance\": 0.824388, \"liquidity_density\": 774.780235, \"pool_volume\": 92780591.275423, \"arb_profit\": 76284.915035, \"pool_fees\": 9283.179519}, {\"timestamp\": \"2024-10-16T00:00:00+00:00\", \"run\": 0, \"pool_value_virtual\": 157752255.524506, \"pool_value\": 157734026.206862, \"pool_balance\": 0.948628, \"liquidity_density\": 974.243683, \"pool_volume\": 72880162.329065, \"arb_profit\": 33575.269136, \"pool_fees\": 7289.840447}], \"data-5d0f2551e2efd1798c9a9dd59a32a48e\": [{\"price_error\": 2.0373500721974205e-05, \"frequency\": 0.0}, {\"price_error\": 6.736e-05, \"frequency\": 0.004861}, {\"price_error\": 0.0001143, \"frequency\": 0.066667}, {\"price_error\": 0.0001613, \"frequency\": 0.048611}, {\"price_error\": 0.0002083, \"frequency\": 0.023611}, {\"price_error\": 0.0002553, \"frequency\": 0.03125}, {\"price_error\": 0.0003023, \"frequency\": 0.024306}, {\"price_error\": 0.0003493, \"frequency\": 0.021528}, {\"price_error\": 0.0003962, \"frequency\": 0.025694}, {\"price_error\": 0.0004432, \"frequency\": 0.022222}, {\"price_error\": 0.0004902, \"frequency\": 0.030556}, {\"price_error\": 0.0005372, \"frequency\": 0.027083}, {\"price_error\": 0.0005842, \"frequency\": 0.028472}, {\"price_error\": 0.0006312, \"frequency\": 0.023611}, {\"price_error\": 0.0006781, \"frequency\": 0.014583}, {\"price_error\": 0.0007251, \"frequency\": 0.022222}, {\"price_error\": 0.0007721, \"frequency\": 0.015972}, {\"price_error\": 0.0008191, \"frequency\": 0.011806}, {\"price_error\": 0.0008661, \"frequency\": 0.01875}, {\"price_error\": 0.0009131, \"frequency\": 0.027083}, {\"price_error\": 0.00096, \"frequency\": 0.020833}, {\"price_error\": 0.001007, \"frequency\": 0.022222}, {\"price_error\": 0.001054, \"frequency\": 0.018056}, {\"price_error\": 0.001101, \"frequency\": 0.017361}, {\"price_error\": 0.001148, \"frequency\": 0.013889}, {\"price_error\": 0.001195, \"frequency\": 0.017361}, {\"price_error\": 0.001242, \"frequency\": 0.015972}, {\"price_error\": 0.001289, \"frequency\": 0.011806}, {\"price_error\": 0.001336, \"frequency\": 0.011806}, {\"price_error\": 0.001383, \"frequency\": 0.009722}, {\"price_error\": 0.00143, \"frequency\": 0.017361}, {\"price_error\": 0.001477, \"frequency\": 0.018056}, {\"price_error\": 0.001524, \"frequency\": 0.013889}, {\"price_error\": 0.001571, \"frequency\": 0.010417}, {\"price_error\": 0.001618, \"frequency\": 0.011806}, {\"price_error\": 0.001665, \"frequency\": 0.013889}, {\"price_error\": 0.001712, \"frequency\": 0.0125}, {\"price_error\": 0.001759, \"frequency\": 0.00625}, {\"price_error\": 0.001806, \"frequency\": 0.006944}, {\"price_error\": 0.001853, \"frequency\": 0.004167}, {\"price_error\": 0.0019, \"frequency\": 0.009722}, {\"price_error\": 0.001947, \"frequency\": 0.005556}, {\"price_error\": 0.001994, \"frequency\": 0.007639}, {\"price_error\": 0.002041, \"frequency\": 0.013889}, {\"price_error\": 0.002088, \"frequency\": 0.005556}, {\"price_error\": 0.002135, \"frequency\": 0.008333}, {\"price_error\": 0.002182, \"frequency\": 0.003472}, {\"price_error\": 0.002229, \"frequency\": 0.004861}, {\"price_error\": 0.002276, \"frequency\": 0.003472}, {\"price_error\": 0.002323, \"frequency\": 0.00625}, {\"price_error\": 0.00237, \"frequency\": 0.002778}, {\"price_error\": 0.002417, \"frequency\": 0.006944}, {\"price_error\": 0.002464, \"frequency\": 0.004167}, {\"price_error\": 0.002511, \"frequency\": 0.002083}, {\"price_error\": 0.002557, \"frequency\": 0.006944}, {\"price_error\": 0.002604, \"frequency\": 0.005556}, {\"price_error\": 0.002651, \"frequency\": 0.003472}, {\"price_error\": 0.002698, \"frequency\": 0.001389}, {\"price_error\": 0.002745, \"frequency\": 0.004167}, {\"price_error\": 0.002792, \"frequency\": 0.002083}, {\"price_error\": 0.002839, \"frequency\": 0.005556}, {\"price_error\": 0.002886, \"frequency\": 0.00625}, {\"price_error\": 0.002933, \"frequency\": 0.004861}, {\"price_error\": 0.00298, \"frequency\": 0.005556}, {\"price_error\": 0.003027, \"frequency\": 0.004861}, {\"price_error\": 0.003074, \"frequency\": 0.003472}, {\"price_error\": 0.003121, \"frequency\": 0.003472}, {\"price_error\": 0.003168, \"frequency\": 0.004861}, {\"price_error\": 0.003215, \"frequency\": 0.002083}, {\"price_error\": 0.003262, \"frequency\": 0.000694}, {\"price_error\": 0.003309, \"frequency\": 0.001389}, {\"price_error\": 0.003356, \"frequency\": 0.00625}, {\"price_error\": 0.003403, \"frequency\": 0.002083}, {\"price_error\": 0.00345, \"frequency\": 0.002083}, {\"price_error\": 0.003497, \"frequency\": 0.004167}, {\"price_error\": 0.003544, \"frequency\": 0.001389}, {\"price_error\": 0.003591, \"frequency\": 0.008333}, {\"price_error\": 0.003638, \"frequency\": 0.002083}, {\"price_error\": 0.003685, \"frequency\": 0.001389}, {\"price_error\": 0.003732, \"frequency\": 0.000694}, {\"price_error\": 0.003779, \"frequency\": 0.001389}, {\"price_error\": 0.003826, \"frequency\": 0.002778}, {\"price_error\": 0.003873, \"frequency\": 0.001389}, {\"price_error\": 0.00392, \"frequency\": 0.0}, {\"price_error\": 0.003967, \"frequency\": 0.000694}, {\"price_error\": 0.004014, \"frequency\": 0.001389}, {\"price_error\": 0.004061, \"frequency\": 0.0}, {\"price_error\": 0.004108, \"frequency\": 0.0}, {\"price_error\": 0.004155, \"frequency\": 0.001389}, {\"price_error\": 0.004202, \"frequency\": 0.001389}, {\"price_error\": 0.004249, \"frequency\": 0.000694}, {\"price_error\": 0.004296, \"frequency\": 0.002083}, {\"price_error\": 0.004343, \"frequency\": 0.002083}, {\"price_error\": 0.00439, \"frequency\": 0.0}, {\"price_error\": 0.004437, \"frequency\": 0.000694}, {\"price_error\": 0.004484, \"frequency\": 0.0}, {\"price_error\": 0.004531, \"frequency\": 0.0}, {\"price_error\": 0.004578, \"frequency\": 0.002778}, {\"price_error\": 0.004625, \"frequency\": 0.0}, {\"price_error\": 0.004672, \"frequency\": 0.0}, {\"price_error\": 0.004719, \"frequency\": 0.000694}, {\"price_error\": 0.004766, \"frequency\": 0.000694}, {\"price_error\": 0.004813, \"frequency\": 0.000694}, {\"price_error\": 0.00486, \"frequency\": 0.0}, {\"price_error\": 0.004907, \"frequency\": 0.001389}, {\"price_error\": 0.004954, \"frequency\": 0.001389}, {\"price_error\": 0.005001, \"frequency\": 0.0}, {\"price_error\": 0.005048, \"frequency\": 0.000694}, {\"price_error\": 0.005095, \"frequency\": 0.000694}, {\"price_error\": 0.005142, \"frequency\": 0.000694}, {\"price_error\": 0.005189, \"frequency\": 0.0}, {\"price_error\": 0.005236, \"frequency\": 0.0}, {\"price_error\": 0.005283, \"frequency\": 0.0}, {\"price_error\": 0.00533, \"frequency\": 0.0}, {\"price_error\": 0.005377, \"frequency\": 0.002083}, {\"price_error\": 0.005424, \"frequency\": 0.0}, {\"price_error\": 0.00547, \"frequency\": 0.0}, {\"price_error\": 0.005517, \"frequency\": 0.000694}, {\"price_error\": 0.005564, \"frequency\": 0.000694}, {\"price_error\": 0.005611, \"frequency\": 0.0}, {\"price_error\": 0.005658, \"frequency\": 0.0}, {\"price_error\": 0.005705, \"frequency\": 0.000694}, {\"price_error\": 0.005752, \"frequency\": 0.0}, {\"price_error\": 0.005799, \"frequency\": 0.0}, {\"price_error\": 0.005846, \"frequency\": 0.0}, {\"price_error\": 0.005893, \"frequency\": 0.0}, {\"price_error\": 0.00594, \"frequency\": 0.001389}, {\"price_error\": 0.005987, \"frequency\": 0.000694}, {\"price_error\": 0.006034, \"frequency\": 0.0}, {\"price_error\": 0.006081, \"frequency\": 0.0}, {\"price_error\": 0.006128, \"frequency\": 0.0}, {\"price_error\": 0.006175, \"frequency\": 0.000694}, {\"price_error\": 0.006222, \"frequency\": 0.000694}, {\"price_error\": 0.006269, \"frequency\": 0.000694}, {\"price_error\": 0.006316, \"frequency\": 0.0}, {\"price_error\": 0.006363, \"frequency\": 0.002778}, {\"price_error\": 0.00641, \"frequency\": 0.000694}, {\"price_error\": 0.006457, \"frequency\": 0.002083}, {\"price_error\": 0.006504, \"frequency\": 0.001389}, {\"price_error\": 0.006551, \"frequency\": 0.002083}, {\"price_error\": 0.006598, \"frequency\": 0.0}, {\"price_error\": 0.006645, \"frequency\": 0.0}, {\"price_error\": 0.006692, \"frequency\": 0.0}, {\"price_error\": 0.006739, \"frequency\": 0.000694}, {\"price_error\": 0.006786, \"frequency\": 0.0}, {\"price_error\": 0.006833, \"frequency\": 0.000694}, {\"price_error\": 0.00688, \"frequency\": 0.0}, {\"price_error\": 0.006927, \"frequency\": 0.001389}, {\"price_error\": 0.006974, \"frequency\": 0.0}, {\"price_error\": 0.007021, \"frequency\": 0.0}, {\"price_error\": 0.007068, \"frequency\": 0.0}, {\"price_error\": 0.007115, \"frequency\": 0.0}, {\"price_error\": 0.007162, \"frequency\": 0.0}, {\"price_error\": 0.007209, \"frequency\": 0.000694}, {\"price_error\": 0.007256, \"frequency\": 0.0}, {\"price_error\": 0.007303, \"frequency\": 0.0}, {\"price_error\": 0.00735, \"frequency\": 0.0}, {\"price_error\": 0.007397, \"frequency\": 0.0}, {\"price_error\": 0.007444, \"frequency\": 0.0}, {\"price_error\": 0.007491, \"frequency\": 0.0}, {\"price_error\": 0.007538, \"frequency\": 0.0}, {\"price_error\": 0.007585, \"frequency\": 0.0}, {\"price_error\": 0.007632, \"frequency\": 0.000694}, {\"price_error\": 0.007679, \"frequency\": 0.0}, {\"price_error\": 0.007726, \"frequency\": 0.0}, {\"price_error\": 0.007773, \"frequency\": 0.000694}, {\"price_error\": 0.00782, \"frequency\": 0.0}, {\"price_error\": 0.007867, \"frequency\": 0.000694}, {\"price_error\": 0.007914, \"frequency\": 0.0}, {\"price_error\": 0.007961, \"frequency\": 0.0}, {\"price_error\": 0.008008, \"frequency\": 0.0}, {\"price_error\": 0.008055, \"frequency\": 0.000694}, {\"price_error\": 0.008102, \"frequency\": 0.0}, {\"price_error\": 0.008149, \"frequency\": 0.0}, {\"price_error\": 0.008196, \"frequency\": 0.0}, {\"price_error\": 0.008243, \"frequency\": 0.0}, {\"price_error\": 0.00829, \"frequency\": 0.0}, {\"price_error\": 0.008336, \"frequency\": 0.0}, {\"price_error\": 0.008383, \"frequency\": 0.0}, {\"price_error\": 0.00843, \"frequency\": 0.0}, {\"price_error\": 0.008477, \"frequency\": 0.0}, {\"price_error\": 0.008524, \"frequency\": 0.0}, {\"price_error\": 0.008571, \"frequency\": 0.0}, {\"price_error\": 0.008618, \"frequency\": 0.0}, {\"price_error\": 0.008665, \"frequency\": 0.0}, {\"price_error\": 0.008712, \"frequency\": 0.0}, {\"price_error\": 0.008759, \"frequency\": 0.0}, {\"price_error\": 0.008806, \"frequency\": 0.0}, {\"price_error\": 0.008853, \"frequency\": 0.0}, {\"price_error\": 0.0089, \"frequency\": 0.0}, {\"price_error\": 0.008947, \"frequency\": 0.000694}, {\"price_error\": 0.008994, \"frequency\": 0.0}, {\"price_error\": 0.009041, \"frequency\": 0.0}, {\"price_error\": 0.009088, \"frequency\": 0.000694}, {\"price_error\": 0.009135, \"frequency\": 0.0}, {\"price_error\": 0.009182, \"frequency\": 0.0}, {\"price_error\": 0.009229, \"frequency\": 0.0}, {\"price_error\": 0.009276, \"frequency\": 0.0}, {\"price_error\": 0.009323, \"frequency\": 0.0}, {\"price_error\": 0.00937, \"frequency\": 0.0}, {\"price_error\": 0.009417, \"frequency\": 0.000694}, {\"price_error\": 0.009464, \"frequency\": 0.0}, {\"price_error\": 0.009511, \"frequency\": 0.0}, {\"price_error\": 0.009558, \"frequency\": 0.0}, {\"price_error\": 0.009605, \"frequency\": 0.0}, {\"price_error\": 0.009652, \"frequency\": 0.0}, {\"price_error\": 0.009699, \"frequency\": 0.0}, {\"price_error\": 0.009746, \"frequency\": 0.000694}, {\"price_error\": 0.009793, \"frequency\": 0.0}, {\"price_error\": 0.00984, \"frequency\": 0.0}, {\"price_error\": 0.009887, \"frequency\": 0.0}, {\"price_error\": 0.009934, \"frequency\": 0.0}, {\"price_error\": 0.009981, \"frequency\": 0.0}, {\"price_error\": 0.01003, \"frequency\": 0.0}, {\"price_error\": 0.01007, \"frequency\": 0.0}, {\"price_error\": 0.01012, \"frequency\": 0.0}, {\"price_error\": 0.01017, \"frequency\": 0.000694}, {\"price_error\": 0.01022, \"frequency\": 0.0}, {\"price_error\": 0.01026, \"frequency\": 0.000694}, {\"price_error\": 0.01031, \"frequency\": 0.0}, {\"price_error\": 0.01036, \"frequency\": 0.0}, {\"price_error\": 0.0104, \"frequency\": 0.0}, {\"price_error\": 0.01045, \"frequency\": 0.0}, {\"price_error\": 0.0105, \"frequency\": 0.0}, {\"price_error\": 0.01054, \"frequency\": 0.0}, {\"price_error\": 0.01059, \"frequency\": 0.0}, {\"price_error\": 0.01064, \"frequency\": 0.0}, {\"price_error\": 0.01069, \"frequency\": 0.0}, {\"price_error\": 0.01073, \"frequency\": 0.0}, {\"price_error\": 0.01078, \"frequency\": 0.0}, {\"price_error\": 0.01083, \"frequency\": 0.0}, {\"price_error\": 0.01087, \"frequency\": 0.0}, {\"price_error\": 0.01092, \"frequency\": 0.0}, {\"price_error\": 0.01097, \"frequency\": 0.0}, {\"price_error\": 0.01101, \"frequency\": 0.0}, {\"price_error\": 0.01106, \"frequency\": 0.0}, {\"price_error\": 0.01111, \"frequency\": 0.0}, {\"price_error\": 0.01116, \"frequency\": 0.0}, {\"price_error\": 0.0112, \"frequency\": 0.0}, {\"price_error\": 0.01125, \"frequency\": 0.0}, {\"price_error\": 0.0113, \"frequency\": 0.0}, {\"price_error\": 0.01134, \"frequency\": 0.0}, {\"price_error\": 0.01139, \"frequency\": 0.0}, {\"price_error\": 0.01144, \"frequency\": 0.0}, {\"price_error\": 0.01148, \"frequency\": 0.0}, {\"price_error\": 0.01153, \"frequency\": 0.0}, {\"price_error\": 0.01158, \"frequency\": 0.0}, {\"price_error\": 0.01163, \"frequency\": 0.0}, {\"price_error\": 0.01167, \"frequency\": 0.0}, {\"price_error\": 0.01172, \"frequency\": 0.0}, {\"price_error\": 0.01177, \"frequency\": 0.0}, {\"price_error\": 0.01181, \"frequency\": 0.0}, {\"price_error\": 0.01186, \"frequency\": 0.0}, {\"price_error\": 0.01191, \"frequency\": 0.0}, {\"price_error\": 0.01195, \"frequency\": 0.0}, {\"price_error\": 0.012, \"frequency\": 0.0}, {\"price_error\": 0.01205, \"frequency\": 0.0}, {\"price_error\": 0.0121, \"frequency\": 0.0}, {\"price_error\": 0.01214, \"frequency\": 0.0}, {\"price_error\": 0.01219, \"frequency\": 0.0}, {\"price_error\": 0.01224, \"frequency\": 0.0}, {\"price_error\": 0.01228, \"frequency\": 0.0}, {\"price_error\": 0.01233, \"frequency\": 0.0}, {\"price_error\": 0.01238, \"frequency\": 0.0}, {\"price_error\": 0.01242, \"frequency\": 0.0}, {\"price_error\": 0.01247, \"frequency\": 0.0}, {\"price_error\": 0.01252, \"frequency\": 0.0}, {\"price_error\": 0.01257, \"frequency\": 0.0}, {\"price_error\": 0.01261, \"frequency\": 0.0}, {\"price_error\": 0.01266, \"frequency\": 0.0}, {\"price_error\": 0.01271, \"frequency\": 0.0}, {\"price_error\": 0.01275, \"frequency\": 0.0}, {\"price_error\": 0.0128, \"frequency\": 0.0}, {\"price_error\": 0.01285, \"frequency\": 0.0}, {\"price_error\": 0.01289, \"frequency\": 0.0}, {\"price_error\": 0.01294, \"frequency\": 0.0}, {\"price_error\": 0.01299, \"frequency\": 0.0}, {\"price_error\": 0.01303, \"frequency\": 0.0}, {\"price_error\": 0.01308, \"frequency\": 0.0}, {\"price_error\": 0.01313, \"frequency\": 0.0}, {\"price_error\": 0.01318, \"frequency\": 0.0}, {\"price_error\": 0.01322, \"frequency\": 0.0}, {\"price_error\": 0.01327, \"frequency\": 0.0}, {\"price_error\": 0.01332, \"frequency\": 0.0}, {\"price_error\": 0.01336, \"frequency\": 0.0}, {\"price_error\": 0.01341, \"frequency\": 0.0}, {\"price_error\": 0.01346, \"frequency\": 0.0}, {\"price_error\": 0.0135, \"frequency\": 0.0}, {\"price_error\": 0.01355, \"frequency\": 0.0}, {\"price_error\": 0.0136, \"frequency\": 0.0}, {\"price_error\": 0.01365, \"frequency\": 0.0}, {\"price_error\": 0.01369, \"frequency\": 0.0}, {\"price_error\": 0.01374, \"frequency\": 0.0}, {\"price_error\": 0.01379, \"frequency\": 0.0}, {\"price_error\": 0.01383, \"frequency\": 0.0}, {\"price_error\": 0.01388, \"frequency\": 0.0}, {\"price_error\": 0.01393, \"frequency\": 0.0}, {\"price_error\": 0.01397, \"frequency\": 0.0}, {\"price_error\": 0.01402, \"frequency\": 0.0}, {\"price_error\": 0.01407, \"frequency\": 0.0}, {\"price_error\": 0.01412, \"frequency\": 0.0}, {\"price_error\": 0.01416, \"frequency\": 0.0}, {\"price_error\": 0.01421, \"frequency\": 0.0}, {\"price_error\": 0.01426, \"frequency\": 0.0}, {\"price_error\": 0.0143, \"frequency\": 0.0}, {\"price_error\": 0.01435, \"frequency\": 0.0}, {\"price_error\": 0.0144, \"frequency\": 0.0}, {\"price_error\": 0.01444, \"frequency\": 0.0}, {\"price_error\": 0.01449, \"frequency\": 0.0}, {\"price_error\": 0.01454, \"frequency\": 0.0}, {\"price_error\": 0.01459, \"frequency\": 0.0}, {\"price_error\": 0.01463, \"frequency\": 0.0}, {\"price_error\": 0.01468, \"frequency\": 0.0}, {\"price_error\": 0.01473, \"frequency\": 0.0}, {\"price_error\": 0.01477, \"frequency\": 0.0}, {\"price_error\": 0.01482, \"frequency\": 0.0}, {\"price_error\": 0.01487, \"frequency\": 0.0}, {\"price_error\": 0.01491, \"frequency\": 0.0}, {\"price_error\": 0.01496, \"frequency\": 0.0}, {\"price_error\": 0.01501, \"frequency\": 0.0}, {\"price_error\": 0.01506, \"frequency\": 0.0}, {\"price_error\": 0.0151, \"frequency\": 0.0}, {\"price_error\": 0.01515, \"frequency\": 0.0}, {\"price_error\": 0.0152, \"frequency\": 0.0}, {\"price_error\": 0.01524, \"frequency\": 0.0}, {\"price_error\": 0.01529, \"frequency\": 0.0}, {\"price_error\": 0.01534, \"frequency\": 0.0}, {\"price_error\": 0.01538, \"frequency\": 0.0}, {\"price_error\": 0.01543, \"frequency\": 0.0}, {\"price_error\": 0.01548, \"frequency\": 0.0}, {\"price_error\": 0.01553, \"frequency\": 0.0}, {\"price_error\": 0.01557, \"frequency\": 0.0}, {\"price_error\": 0.01562, \"frequency\": 0.0}, {\"price_error\": 0.01567, \"frequency\": 0.0}, {\"price_error\": 0.01571, \"frequency\": 0.0}, {\"price_error\": 0.01576, \"frequency\": 0.0}, {\"price_error\": 0.01581, \"frequency\": 0.0}, {\"price_error\": 0.01585, \"frequency\": 0.0}, {\"price_error\": 0.0159, \"frequency\": 0.0}, {\"price_error\": 0.01595, \"frequency\": 0.0}, {\"price_error\": 0.01599, \"frequency\": 0.0}, {\"price_error\": 0.01604, \"frequency\": 0.0}, {\"price_error\": 0.01609, \"frequency\": 0.0}, {\"price_error\": 0.01614, \"frequency\": 0.0}, {\"price_error\": 0.01618, \"frequency\": 0.0}, {\"price_error\": 0.01623, \"frequency\": 0.0}, {\"price_error\": 0.01628, \"frequency\": 0.0}, {\"price_error\": 0.01632, \"frequency\": 0.0}, {\"price_error\": 0.01637, \"frequency\": 0.0}, {\"price_error\": 0.01642, \"frequency\": 0.0}, {\"price_error\": 0.01646, \"frequency\": 0.0}, {\"price_error\": 0.01651, \"frequency\": 0.0}, {\"price_error\": 0.01656, \"frequency\": 0.0}, {\"price_error\": 0.01661, \"frequency\": 0.0}, {\"price_error\": 0.01665, \"frequency\": 0.0}, {\"price_error\": 0.0167, \"frequency\": 0.0}, {\"price_error\": 0.01675, \"frequency\": 0.0}, {\"price_error\": 0.01679, \"frequency\": 0.0}, {\"price_error\": 0.01684, \"frequency\": 0.0}, {\"price_error\": 0.01689, \"frequency\": 0.0}, {\"price_error\": 0.01693, \"frequency\": 0.0}, {\"price_error\": 0.01698, \"frequency\": 0.0}, {\"price_error\": 0.01703, \"frequency\": 0.0}, {\"price_error\": 0.01708, \"frequency\": 0.0}, {\"price_error\": 0.01712, \"frequency\": 0.0}, {\"price_error\": 0.01717, \"frequency\": 0.0}, {\"price_error\": 0.01722, \"frequency\": 0.0}, {\"price_error\": 0.01726, \"frequency\": 0.0}, {\"price_error\": 0.01731, \"frequency\": 0.0}, {\"price_error\": 0.01736, \"frequency\": 0.0}, {\"price_error\": 0.0174, \"frequency\": 0.0}, {\"price_error\": 0.01745, \"frequency\": 0.0}, {\"price_error\": 0.0175, \"frequency\": 0.0}, {\"price_error\": 0.01755, \"frequency\": 0.0}, {\"price_error\": 0.01759, \"frequency\": 0.0}, {\"price_error\": 0.01764, \"frequency\": 0.0}, {\"price_error\": 0.01769, \"frequency\": 0.0}, {\"price_error\": 0.01773, \"frequency\": 0.0}, {\"price_error\": 0.01778, \"frequency\": 0.0}, {\"price_error\": 0.01783, \"frequency\": 0.0}, {\"price_error\": 0.01787, \"frequency\": 0.0}, {\"price_error\": 0.01792, \"frequency\": 0.0}, {\"price_error\": 0.01797, \"frequency\": 0.0}, {\"price_error\": 0.01802, \"frequency\": 0.0}, {\"price_error\": 0.01806, \"frequency\": 0.0}, {\"price_error\": 0.01811, \"frequency\": 0.0}, {\"price_error\": 0.01816, \"frequency\": 0.0}, {\"price_error\": 0.0182, \"frequency\": 0.0}, {\"price_error\": 0.01825, \"frequency\": 0.0}, {\"price_error\": 0.0183, \"frequency\": 0.0}, {\"price_error\": 0.01834, \"frequency\": 0.0}, {\"price_error\": 0.01839, \"frequency\": 0.0}, {\"price_error\": 0.01844, \"frequency\": 0.0}, {\"price_error\": 0.01848, \"frequency\": 0.0}, {\"price_error\": 0.01853, \"frequency\": 0.0}, {\"price_error\": 0.01858, \"frequency\": 0.0}, {\"price_error\": 0.01863, \"frequency\": 0.0}, {\"price_error\": 0.01867, \"frequency\": 0.0}, {\"price_error\": 0.01872, \"frequency\": 0.0}, {\"price_error\": 0.01877, \"frequency\": 0.0}, {\"price_error\": 0.01881, \"frequency\": 0.0}, {\"price_error\": 0.01886, \"frequency\": 0.0}, {\"price_error\": 0.01891, \"frequency\": 0.0}, {\"price_error\": 0.01895, \"frequency\": 0.0}, {\"price_error\": 0.019, \"frequency\": 0.0}, {\"price_error\": 0.01905, \"frequency\": 0.0}, {\"price_error\": 0.0191, \"frequency\": 0.0}, {\"price_error\": 0.01914, \"frequency\": 0.0}, {\"price_error\": 0.01919, \"frequency\": 0.0}, {\"price_error\": 0.01924, \"frequency\": 0.0}, {\"price_error\": 0.01928, \"frequency\": 0.0}, {\"price_error\": 0.01933, \"frequency\": 0.0}, {\"price_error\": 0.01938, \"frequency\": 0.0}, {\"price_error\": 0.01942, \"frequency\": 0.0}, {\"price_error\": 0.01947, \"frequency\": 0.0}, {\"price_error\": 0.01952, \"frequency\": 0.0}, {\"price_error\": 0.01957, \"frequency\": 0.0}, {\"price_error\": 0.01961, \"frequency\": 0.0}, {\"price_error\": 0.01966, \"frequency\": 0.0}, {\"price_error\": 0.01971, \"frequency\": 0.0}, {\"price_error\": 0.01975, \"frequency\": 0.0}, {\"price_error\": 0.0198, \"frequency\": 0.0}, {\"price_error\": 0.01985, \"frequency\": 0.000694}, {\"price_error\": 0.01989, \"frequency\": 0.0}, {\"price_error\": 0.01994, \"frequency\": 0.0}, {\"price_error\": 0.01999, \"frequency\": 0.0}, {\"price_error\": 0.02004, \"frequency\": 0.0}, {\"price_error\": 0.02008, \"frequency\": 0.0}, {\"price_error\": 0.02013, \"frequency\": 0.0}, {\"price_error\": 0.02018, \"frequency\": 0.0}, {\"price_error\": 0.02022, \"frequency\": 0.0}, {\"price_error\": 0.02027, \"frequency\": 0.0}, {\"price_error\": 0.02032, \"frequency\": 0.0}, {\"price_error\": 0.02036, \"frequency\": 0.0}, {\"price_error\": 0.02041, \"frequency\": 0.0}, {\"price_error\": 0.02046, \"frequency\": 0.0}, {\"price_error\": 0.02051, \"frequency\": 0.0}, {\"price_error\": 0.02055, \"frequency\": 0.002083}, {\"price_error\": 0.0206, \"frequency\": 0.0}, {\"price_error\": 0.02065, \"frequency\": 0.0}, {\"price_error\": 0.02069, \"frequency\": 0.0}, {\"price_error\": 0.02074, \"frequency\": 0.0}, {\"price_error\": 0.02079, \"frequency\": 0.0}, {\"price_error\": 0.02083, \"frequency\": 0.0}, {\"price_error\": 0.02088, \"frequency\": 0.0}, {\"price_error\": 0.02093, \"frequency\": 0.0}, {\"price_error\": 0.02098, \"frequency\": 0.0}, {\"price_error\": 0.02102, \"frequency\": 0.0}, {\"price_error\": 0.02107, \"frequency\": 0.0}, {\"price_error\": 0.02112, \"frequency\": 0.0}, {\"price_error\": 0.02116, \"frequency\": 0.0}, {\"price_error\": 0.02121, \"frequency\": 0.0}, {\"price_error\": 0.02126, \"frequency\": 0.0}, {\"price_error\": 0.0213, \"frequency\": 0.0}, {\"price_error\": 0.02135, \"frequency\": 0.0}, {\"price_error\": 0.0214, \"frequency\": 0.0}, {\"price_error\": 0.02144, \"frequency\": 0.0}, {\"price_error\": 0.02149, \"frequency\": 0.0}, {\"price_error\": 0.02154, \"frequency\": 0.0}, {\"price_error\": 0.02159, \"frequency\": 0.0}, {\"price_error\": 0.02163, \"frequency\": 0.0}, {\"price_error\": 0.02168, \"frequency\": 0.0}, {\"price_error\": 0.02173, \"frequency\": 0.0}, {\"price_error\": 0.02177, \"frequency\": 0.0}, {\"price_error\": 0.02182, \"frequency\": 0.0}, {\"price_error\": 0.02187, \"frequency\": 0.0}, {\"price_error\": 0.02191, \"frequency\": 0.0}, {\"price_error\": 0.02196, \"frequency\": 0.0}, {\"price_error\": 0.02201, \"frequency\": 0.0}, {\"price_error\": 0.02206, \"frequency\": 0.0}, {\"price_error\": 0.0221, \"frequency\": 0.0}, {\"price_error\": 0.02215, \"frequency\": 0.0}, {\"price_error\": 0.0222, \"frequency\": 0.0}, {\"price_error\": 0.02224, \"frequency\": 0.0}, {\"price_error\": 0.02229, \"frequency\": 0.0}, {\"price_error\": 0.02234, \"frequency\": 0.0}, {\"price_error\": 0.02238, \"frequency\": 0.0}, {\"price_error\": 0.02243, \"frequency\": 0.0}, {\"price_error\": 0.02248, \"frequency\": 0.0}, {\"price_error\": 0.02253, \"frequency\": 0.0}, {\"price_error\": 0.02257, \"frequency\": 0.0}, {\"price_error\": 0.02262, \"frequency\": 0.0}, {\"price_error\": 0.02267, \"frequency\": 0.0}, {\"price_error\": 0.02271, \"frequency\": 0.0}, {\"price_error\": 0.02276, \"frequency\": 0.0}, {\"price_error\": 0.02281, \"frequency\": 0.0}, {\"price_error\": 0.02285, \"frequency\": 0.0}, {\"price_error\": 0.0229, \"frequency\": 0.0}, {\"price_error\": 0.02295, \"frequency\": 0.0}, {\"price_error\": 0.023, \"frequency\": 0.0}, {\"price_error\": 0.02304, \"frequency\": 0.0}, {\"price_error\": 0.02309, \"frequency\": 0.0}, {\"price_error\": 0.02314, \"frequency\": 0.0}, {\"price_error\": 0.02318, \"frequency\": 0.0}, {\"price_error\": 0.02323, \"frequency\": 0.0}, {\"price_error\": 0.02328, \"frequency\": 0.0}, {\"price_error\": 0.02332, \"frequency\": 0.0}, {\"price_error\": 0.02337, \"frequency\": 0.0}, {\"price_error\": 0.02342, \"frequency\": 0.0}, {\"price_error\": 0.02347, \"frequency\": 0.0}, {\"price_error\": 0.02351, \"frequency\": 0.000694}]}}, {\"mode\": \"vega-lite\"});\n",
       "</script>"
      ],
      "text/plain": [
       "alt.VConcatChart(...)"
      ]
     },
     "execution_count": 7,
     "metadata": {},
     "output_type": "execute_result"
    }
   ],
   "source": [
    "results.plot()"
   ]
  },
  {
   "cell_type": "code",
   "execution_count": null,
   "id": "6d271296",
   "metadata": {},
   "outputs": [],
   "source": []
  }
 ],
 "metadata": {
  "kernelspec": {
   "display_name": "Python 3 (ipykernel)",
   "language": "python",
   "name": "python3"
  },
  "language_info": {
   "codemirror_mode": {
    "name": "ipython",
    "version": 3
   },
   "file_extension": ".py",
   "mimetype": "text/x-python",
   "name": "python",
   "nbconvert_exporter": "python",
   "pygments_lexer": "ipython3",
   "version": "3.11.9"
  }
 },
 "nbformat": 4,
 "nbformat_minor": 5
}
